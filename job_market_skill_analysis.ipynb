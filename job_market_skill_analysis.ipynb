{
 "cells": [
  {
   "cell_type": "code",
   "execution_count": 15,
   "id": "a524d18b-58fd-4315-b113-46d6a4f39f35",
   "metadata": {},
   "outputs": [
    {
     "name": "stdout",
     "output_type": "stream",
     "text": [
      "Requirement already satisfied: requests in c:\\users\\dhanu\\anaconda3\\lib\\site-packages (2.32.3)\n",
      "Requirement already satisfied: beautifulsoup4 in c:\\users\\dhanu\\anaconda3\\lib\\site-packages (4.12.3)\n",
      "Requirement already satisfied: pandas in c:\\users\\dhanu\\anaconda3\\lib\\site-packages (2.2.2)\n",
      "Requirement already satisfied: charset-normalizer<4,>=2 in c:\\users\\dhanu\\anaconda3\\lib\\site-packages (from requests) (3.3.2)\n",
      "Requirement already satisfied: idna<4,>=2.5 in c:\\users\\dhanu\\anaconda3\\lib\\site-packages (from requests) (3.7)\n",
      "Requirement already satisfied: urllib3<3,>=1.21.1 in c:\\users\\dhanu\\anaconda3\\lib\\site-packages (from requests) (2.5.0)\n",
      "Requirement already satisfied: certifi>=2017.4.17 in c:\\users\\dhanu\\anaconda3\\lib\\site-packages (from requests) (2025.6.15)\n",
      "Requirement already satisfied: soupsieve>1.2 in c:\\users\\dhanu\\anaconda3\\lib\\site-packages (from beautifulsoup4) (2.5)\n",
      "Requirement already satisfied: numpy>=1.26.0 in c:\\users\\dhanu\\anaconda3\\lib\\site-packages (from pandas) (1.26.4)\n",
      "Requirement already satisfied: python-dateutil>=2.8.2 in c:\\users\\dhanu\\anaconda3\\lib\\site-packages (from pandas) (2.9.0.post0)\n",
      "Requirement already satisfied: pytz>=2020.1 in c:\\users\\dhanu\\anaconda3\\lib\\site-packages (from pandas) (2024.1)\n",
      "Requirement already satisfied: tzdata>=2022.7 in c:\\users\\dhanu\\anaconda3\\lib\\site-packages (from pandas) (2023.3)\n",
      "Requirement already satisfied: six>=1.5 in c:\\users\\dhanu\\anaconda3\\lib\\site-packages (from python-dateutil>=2.8.2->pandas) (1.16.0)\n"
     ]
    }
   ],
   "source": [
    "!pip install requests beautifulsoup4 pandas\n"
   ]
  },
  {
   "cell_type": "code",
   "execution_count": 16,
   "id": "fc2ae3a0-fa76-4c58-909a-2b054a47ab97",
   "metadata": {},
   "outputs": [],
   "source": [
    "import requests\n",
    "from bs4 import BeautifulSoup\n",
    "import pandas as pd\n"
   ]
  },
  {
   "cell_type": "code",
   "execution_count": 17,
   "id": "8f6f4a97-8ccb-462b-8932-800fa3ac7c61",
   "metadata": {},
   "outputs": [
    {
     "name": "stdout",
     "output_type": "stream",
     "text": [
      "Status Code: 200\n"
     ]
    }
   ],
   "source": [
    "url = \"https://remoteok.com/remote-data+analyst-jobs\"\n",
    "headers = {\"User-Agent\": \"Mozilla/5.0\"}\n",
    "\n",
    "response = requests.get(url, headers=headers)\n",
    "print(\"Status Code:\", response.status_code)\n"
   ]
  },
  {
   "cell_type": "code",
   "execution_count": 18,
   "id": "3fd5ed1b-ba54-41af-8313-83f9d3dced1c",
   "metadata": {},
   "outputs": [
    {
     "name": "stdout",
     "output_type": "stream",
     "text": [
      "Found jobs: 9\n"
     ]
    }
   ],
   "source": [
    "soup = BeautifulSoup(response.text, \"html.parser\")\n",
    "\n",
    "# Find all job cards\n",
    "job_cards = soup.find_all(\"tr\", class_=\"job\")  # each job is a <tr class=\"job\">\n",
    "print(\"Found jobs:\", len(job_cards))\n"
   ]
  },
  {
   "cell_type": "code",
   "execution_count": 19,
   "id": "37d6d1d6-21de-4218-a344-2fd84012c142",
   "metadata": {},
   "outputs": [
    {
     "name": "stdout",
     "output_type": "stream",
     "text": [
      "No Title — No Company — Remote\n",
      "No Title — No Company — Remote\n",
      "No Title — No Company — Remote\n",
      "No Title — No Company — Remote\n",
      "No Title — No Company — Remote\n",
      "No Title — No Company — Remote\n",
      "No Title — No Company — Remote\n",
      "No Title — No Company — Remote\n",
      "No Title — No Company — Remote\n"
     ]
    }
   ],
   "source": [
    "jobs = []\n",
    "\n",
    "for job in job_cards[:10]:  # first 10 jobs\n",
    "    title = job.find(\"h2\", {\"itemprop\": \"title\"})\n",
    "    company = job.find(\"h3\", {\"itemprop\": \"name\"})\n",
    "    location = job.find(\"div\", class_=\"location\")\n",
    "    \n",
    "    title = title.text.strip() if title else \"No Title\"\n",
    "    company = company.text.strip() if company else \"No Company\"\n",
    "    location = location.text.strip() if location else \"Remote\"\n",
    "    \n",
    "    jobs.append([title, company, location])\n",
    "\n",
    "# Show results\n",
    "for j in jobs:\n",
    "    print(f\"{j[0]} — {j[1]} — {j[2]}\")\n"
   ]
  },
  {
   "cell_type": "code",
   "execution_count": 20,
   "id": "081d81be-1a3e-4d16-95ca-16bd2aaa02d9",
   "metadata": {},
   "outputs": [],
   "source": [
    "import requests\n",
    "from bs4 import BeautifulSoup\n",
    "\n",
    "url = \"https://remoteok.com/remote-data+analyst-jobs\"\n",
    "headers = {\"User-Agent\": \"Mozilla/5.0\"}\n",
    "\n",
    "response = requests.get(url, headers=headers)\n",
    "soup = BeautifulSoup(response.text, \"html.parser\")\n",
    "\n",
    "# Find all job rows\n",
    "job_rows = soup.find_all(\"tr\", class_=\"job\")\n",
    "\n",
    "jobs = []\n",
    "\n",
    "for job in job_rows[:10]:\n",
    "    # The job title and company are inside a td with class \"company_and_position\"\n",
    "    info = job.find(\"td\", class_=\"company_and_position\")\n",
    "    if info:\n",
    "        title = info.find(\"h2\")\n",
    "        company = info.find(\"h3\")\n",
    "        title = title.text.strip() if title else \"No Title\"\n",
    "        company = company.text.strip() if company else \"No Company\"\n",
    "        location = job.find(\"div\", class_=\"location\")\n",
    "        location = location.text.strip() if location else \"Remote\"\n",
    "        jobs.append([title, company, location])\n",
    "\n",
    "# Print results\n",
    "for j in jobs:\n",
    "    print(f\"{j[0]} — {j[1]} — {j[2]}\")\n"
   ]
  },
  {
   "cell_type": "code",
   "execution_count": 22,
   "id": "9704fec2-6f74-4ce8-8217-d0089376e83c",
   "metadata": {},
   "outputs": [
    {
     "name": "stdout",
     "output_type": "stream",
     "text": [
      "Coding Bootcamp﹣Job Guaranteed — Metana — 🌏 Worldwide\n",
      "The World's Best Dashboard Designer — TradeStream — 🌏 Worldwide\n",
      "Full Stack Developer — Novabyte Solutions — 🌏 Worldwide\n",
      "Backend Engineer — Veda Tech Labs — 💰 Upgrade to Premium to see salary\n",
      "Growth Product Manager — Open Inc. — Los Angeles\n",
      "Senior Backend Engineer Rust — Jobgether — European Union\n",
      "Frontend Engineer React.js — Jobgether — EMEA\n",
      "Senior Data Engineer — Jobgether — Latin America\n",
      "Head of Product Marketing — Fastbreak AI — Charlotte\n",
      "Junior Support Specialist — Paddle — Lisbon\n"
     ]
    }
   ],
   "source": [
    "from selenium import webdriver\n",
    "from selenium.webdriver.edge.service import Service\n",
    "from selenium.webdriver.common.by import By\n",
    "import time\n",
    "\n",
    "# Path to Edge WebDriver\n",
    "driver_path = r\"C:\\Users\\dhanu\\OneDrive\\Documents\\msedgedriver.exe\"\n",
    "service = Service(driver_path)\n",
    "driver = webdriver.Edge(service=service)\n",
    "\n",
    "# Open RemoteOK\n",
    "driver.get(\"https://remoteok.com/remote-data+analyst-jobs\")\n",
    "time.sleep(5)  # wait for jobs to load\n",
    "\n",
    "# Find all job rows\n",
    "job_rows = driver.find_elements(By.CSS_SELECTOR, \"tr.job\")\n",
    "\n",
    "jobs = []\n",
    "for job in job_rows[:10]:  # first 10 jobs\n",
    "    try:\n",
    "        title = job.find_element(By.CSS_SELECTOR, \"td.company_and_position h2\").text\n",
    "    except:\n",
    "        title = \"No Title\"\n",
    "    try:\n",
    "        company = job.find_element(By.CSS_SELECTOR, \"td.company_and_position h3\").text\n",
    "    except:\n",
    "        company = \"No Company\"\n",
    "    try:\n",
    "        location = job.find_element(By.CSS_SELECTOR, \"div.location\").text\n",
    "    except:\n",
    "        location = \"Remote\"\n",
    "    jobs.append([title, company, location])\n",
    "\n",
    "# Print results\n",
    "for j in jobs:\n",
    "    print(f\"{j[0]} — {j[1]} — {j[2]}\")\n",
    "\n",
    "driver.quit()\n"
   ]
  },
  {
   "cell_type": "code",
   "execution_count": 24,
   "id": "baeda97f-b040-45ea-9d5f-b8161ec22358",
   "metadata": {},
   "outputs": [
    {
     "name": "stdout",
     "output_type": "stream",
     "text": [
      "Remote Jobs in Programming, Design, Sales and more #OpenSalaries\n"
     ]
    }
   ],
   "source": [
    "from selenium import webdriver\n",
    "from selenium.webdriver.edge.service import Service\n",
    "\n",
    "driver_path = r\"C:\\Users\\dhanu\\OneDrive\\Documents\\msedgedriver.exe\"\n",
    "service = Service(driver_path)\n",
    "\n",
    "driver = webdriver.Edge(service=service)\n",
    "driver.get(\"https://remoteok.com/remote-data+analyst-jobs\")\n",
    "print(driver.title)\n",
    "driver.quit()\n"
   ]
  },
  {
   "cell_type": "code",
   "execution_count": 25,
   "id": "dd7e2ae6-788e-44e6-aaf5-fe60a999a31b",
   "metadata": {},
   "outputs": [
    {
     "name": "stdout",
     "output_type": "stream",
     "text": [
      "Coding Bootcamp﹣Job Guaranteed — Metana — 🌏 Worldwide\n",
      "The World's Best Dashboard Designer — TradeStream — 🌏 Worldwide\n",
      "Full Stack Developer — Novabyte Solutions — 🌏 Worldwide\n",
      "Backend Engineer — Veda Tech Labs — 💰 Upgrade to Premium to see salary\n",
      "Growth Product Manager — Open Inc. — Los Angeles\n",
      "Senior Backend Engineer Rust — Jobgether — European Union\n",
      "Frontend Engineer React.js — Jobgether — EMEA\n",
      "Senior Data Engineer — Jobgether — Latin America\n",
      "Head of Product Marketing — Fastbreak AI — Charlotte\n",
      "Junior Support Specialist — Paddle — Lisbon\n",
      "Communications Manager — Patreon — 🌏 Probably worldwide\n",
      "Orca T Account Manager Central — Orca Bio — 💰 Upgrade to Premium to see salary\n",
      "Client Support Specialist — Clipboard — ⏰ Contractor\n",
      "Current openings — Correlation One — 💰 Upgrade to Premium to see salary\n",
      "Developer Marketing Manager — The Sia Foundation — Boston, Massachusetts\n",
      "Machine Learning Engineer — Incode Technologies — Spain\n",
      "Product Lead — Noble — 💰 Upgrade to Premium to see salary\n",
      "Blockchain Solutions Engineer — InfStones — Texas\n",
      "Machine Learning Engineer — Canals AI — 🌏 Probably worldwide\n",
      "Product Manager — Vesta — 💰 Upgrade to Premium to see salary\n"
     ]
    }
   ],
   "source": [
    "from selenium import webdriver\n",
    "from selenium.webdriver.edge.service import Service\n",
    "from selenium.webdriver.common.by import By\n",
    "import time\n",
    "\n",
    "driver_path = r\"C:\\Users\\dhanu\\OneDrive\\Documents\\msedgedriver.exe\"\n",
    "service = Service(driver_path)\n",
    "driver = webdriver.Edge(service=service)\n",
    "\n",
    "driver.get(\"https://remoteok.com/remote-data+analyst-jobs\")\n",
    "time.sleep(5)  # wait for jobs to load\n",
    "\n",
    "job_rows = driver.find_elements(By.CSS_SELECTOR, \"tr.job\")\n",
    "\n",
    "jobs = []\n",
    "for job in job_rows[:20]:  # first 20 jobs\n",
    "    try:\n",
    "        title = job.find_element(By.CSS_SELECTOR, \"td.company_and_position h2\").text\n",
    "    except:\n",
    "        title = \"No Title\"\n",
    "    try:\n",
    "        company = job.find_element(By.CSS_SELECTOR, \"td.company_and_position h3\").text\n",
    "    except:\n",
    "        company = \"No Company\"\n",
    "    try:\n",
    "        location = job.find_element(By.CSS_SELECTOR, \"div.location\").text\n",
    "    except:\n",
    "        location = \"Remote\"\n",
    "    jobs.append([title, company, location])\n",
    "\n",
    "# Print results\n",
    "for j in jobs:\n",
    "    print(f\"{j[0]} — {j[1]} — {j[2]}\")\n",
    "\n",
    "driver.quit()\n"
   ]
  },
  {
   "cell_type": "code",
   "execution_count": 26,
   "id": "14a91e32-7954-4790-aa2e-175aac153f76",
   "metadata": {},
   "outputs": [
    {
     "name": "stdout",
     "output_type": "stream",
     "text": [
      "CSV saved successfully!\n"
     ]
    }
   ],
   "source": [
    "import pandas as pd\n",
    "from selenium import webdriver\n",
    "from selenium.webdriver.edge.service import Service\n",
    "from selenium.webdriver.common.by import By\n",
    "import time\n",
    "\n",
    "driver_path = r\"C:\\Users\\dhanu\\OneDrive\\Documents\\msedgedriver.exe\"\n",
    "service = Service(driver_path)\n",
    "driver = webdriver.Edge(service=service)\n",
    "\n",
    "driver.get(\"https://remoteok.com/remote-data+analyst-jobs\")\n",
    "time.sleep(5)  # wait for jobs to load\n",
    "\n",
    "job_rows = driver.find_elements(By.CSS_SELECTOR, \"tr.job\")\n",
    "\n",
    "jobs = []\n",
    "for job in job_rows[:50]:  # scrape first 50 jobs\n",
    "    try:\n",
    "        title = job.find_element(By.CSS_SELECTOR, \"td.company_and_position h2\").text\n",
    "    except:\n",
    "        title = \"No Title\"\n",
    "    try:\n",
    "        company = job.find_element(By.CSS_SELECTOR, \"td.company_and_position h3\").text\n",
    "    except:\n",
    "        company = \"No Company\"\n",
    "    try:\n",
    "        location = job.find_element(By.CSS_SELECTOR, \"div.location\").text\n",
    "    except:\n",
    "        location = \"Remote\"\n",
    "    jobs.append([title, company, location])\n",
    "\n",
    "driver.quit()\n",
    "\n",
    "# Save to CSV\n",
    "df = pd.DataFrame(jobs, columns=[\"Job Title\", \"Company\", \"Location\"])\n",
    "df.to_csv(\"remoteok_data_analyst_jobs.csv\", index=False)\n",
    "print(\"CSV saved successfully!\")\n"
   ]
  },
  {
   "cell_type": "code",
   "execution_count": 27,
   "id": "db8319cb-88a9-4987-8abd-84bc22cd612b",
   "metadata": {},
   "outputs": [
    {
     "data": {
      "text/html": [
       "<div>\n",
       "<style scoped>\n",
       "    .dataframe tbody tr th:only-of-type {\n",
       "        vertical-align: middle;\n",
       "    }\n",
       "\n",
       "    .dataframe tbody tr th {\n",
       "        vertical-align: top;\n",
       "    }\n",
       "\n",
       "    .dataframe thead th {\n",
       "        text-align: right;\n",
       "    }\n",
       "</style>\n",
       "<table border=\"1\" class=\"dataframe\">\n",
       "  <thead>\n",
       "    <tr style=\"text-align: right;\">\n",
       "      <th></th>\n",
       "      <th>Job Title</th>\n",
       "      <th>Company</th>\n",
       "      <th>Location</th>\n",
       "    </tr>\n",
       "  </thead>\n",
       "  <tbody>\n",
       "    <tr>\n",
       "      <th>0</th>\n",
       "      <td>Coding Bootcamp﹣Job Guaranteed</td>\n",
       "      <td>Metana</td>\n",
       "      <td>🌏 Worldwide</td>\n",
       "    </tr>\n",
       "    <tr>\n",
       "      <th>1</th>\n",
       "      <td>The World's Best Dashboard Designer</td>\n",
       "      <td>TradeStream</td>\n",
       "      <td>🌏 Worldwide</td>\n",
       "    </tr>\n",
       "    <tr>\n",
       "      <th>2</th>\n",
       "      <td>Full Stack Developer</td>\n",
       "      <td>Novabyte Solutions</td>\n",
       "      <td>🌏 Worldwide</td>\n",
       "    </tr>\n",
       "    <tr>\n",
       "      <th>3</th>\n",
       "      <td>Backend Engineer</td>\n",
       "      <td>Veda Tech Labs</td>\n",
       "      <td>💰 Upgrade to Premium to see salary</td>\n",
       "    </tr>\n",
       "    <tr>\n",
       "      <th>4</th>\n",
       "      <td>Growth Product Manager</td>\n",
       "      <td>Open Inc.</td>\n",
       "      <td>Los Angeles</td>\n",
       "    </tr>\n",
       "  </tbody>\n",
       "</table>\n",
       "</div>"
      ],
      "text/plain": [
       "                             Job Title             Company  \\\n",
       "0       Coding Bootcamp﹣Job Guaranteed              Metana   \n",
       "1  The World's Best Dashboard Designer         TradeStream   \n",
       "2                 Full Stack Developer  Novabyte Solutions   \n",
       "3                     Backend Engineer      Veda Tech Labs   \n",
       "4               Growth Product Manager           Open Inc.   \n",
       "\n",
       "                             Location  \n",
       "0                         🌏 Worldwide  \n",
       "1                         🌏 Worldwide  \n",
       "2                         🌏 Worldwide  \n",
       "3  💰 Upgrade to Premium to see salary  \n",
       "4                         Los Angeles  "
      ]
     },
     "execution_count": 27,
     "metadata": {},
     "output_type": "execute_result"
    }
   ],
   "source": [
    "import pandas as pd\n",
    "\n",
    "df = pd.read_csv(\"remoteok_data_analyst_jobs.csv\")\n",
    "df.head()\n"
   ]
  },
  {
   "cell_type": "code",
   "execution_count": 28,
   "id": "c656d49e-bb79-4bdb-8125-0a9a92987f60",
   "metadata": {},
   "outputs": [
    {
     "name": "stdout",
     "output_type": "stream",
     "text": [
      "Top 10 Locations:\n",
      " Location\n",
      "💰 Upgrade to Premium to see salary        12\n",
      "🌏 Probably worldwide                       9\n",
      "🌏 Worldwide                                5\n",
      "Los Angeles                                2\n",
      "Remote, Canada                             2\n",
      "Nairobi                                    1\n",
      "San Francisco                              1\n",
      "South Korea                                1\n",
      "Remote, United States                      1\n",
      "United States + International (Remote)     1\n",
      "Name: count, dtype: int64\n"
     ]
    }
   ],
   "source": [
    "# Count how many jobs per location\n",
    "top_locations = df['Location'].value_counts().head(10)\n",
    "print(\"Top 10 Locations:\\n\", top_locations)\n"
   ]
  },
  {
   "cell_type": "code",
   "execution_count": 29,
   "id": "20ba1952-aedd-46e8-b6c2-e7d1b7c69515",
   "metadata": {},
   "outputs": [
    {
     "name": "stdout",
     "output_type": "stream",
     "text": [
      "Skill Frequency:\n",
      " {'Python': 0, 'SQL': 0, 'Excel': 0, 'Power BI': 0, 'Tableau': 0, 'Machine Learning': 2, 'Data Analyst': 1, 'Business Analyst': 0}\n"
     ]
    }
   ],
   "source": [
    "skills = ['Python', 'SQL', 'Excel', 'Power BI', 'Tableau', 'Machine Learning', 'Data Analyst', 'Business Analyst']\n",
    "\n",
    "# Count skills\n",
    "skill_count = {}\n",
    "for skill in skills:\n",
    "    count = df['Job Title'].str.contains(skill, case=False).sum()\n",
    "    skill_count[skill] = count\n",
    "\n",
    "print(\"Skill Frequency:\\n\", skill_count)\n"
   ]
  },
  {
   "cell_type": "code",
   "execution_count": 30,
   "id": "b3ebfad9-d774-4630-bb09-a4687726da5c",
   "metadata": {},
   "outputs": [
    {
     "data": {
      "image/png": "[encoded data removed]",
      "text/plain": [
       "<Figure size 1000x500 with 1 Axes>"
      ]
     },
     "metadata": {},
     "output_type": "display_data"
    }
   ],
   "source": [
    "import matplotlib.pyplot as plt\n",
    "\n",
    "plt.figure(figsize=(10,5))\n",
    "plt.bar(skill_count.keys(), skill_count.values(), color='skyblue')\n",
    "plt.title(\"Top Skills in Data Analyst Jobs\")\n",
    "plt.ylabel(\"Number of Jobs\")\n",
    "plt.show()\n"
   ]
  },
  {
   "cell_type": "code",
   "execution_count": 31,
   "id": "9367e012-76b5-40f3-bc65-3f0440664ea7",
   "metadata": {},
   "outputs": [],
   "source": [
    "skills_list = [\n",
    "    'Python', 'SQL', 'Excel', 'Power BI', 'Tableau', 'Machine Learning', \n",
    "    'Data Analyst', 'Business Analyst', 'R', 'SAS', 'ETL', 'Statistics',\n",
    "    'Data Visualization', 'AWS', 'Big Data', 'Google Analytics', 'Communication',\n",
    "    'Problem Solving', 'Python Pandas', 'NumPy', 'Matplotlib', 'Seaborn'\n",
    "]\n"
   ]
  },
  {
   "cell_type": "code",
   "execution_count": 32,
   "id": "31cfbf19-9900-4f77-befc-456392d7b8f3",
   "metadata": {},
   "outputs": [
    {
     "name": "stdout",
     "output_type": "stream",
     "text": [
      "{'R': 47, 'Machine Learning': 2, 'Data Analyst': 1, 'Communication': 1, 'Python': 0, 'SQL': 0, 'Excel': 0, 'Power BI': 0, 'Tableau': 0, 'Business Analyst': 0, 'SAS': 0, 'ETL': 0, 'Statistics': 0, 'Data Visualization': 0, 'AWS': 0, 'Big Data': 0, 'Google Analytics': 0, 'Problem Solving': 0, 'Python Pandas': 0, 'NumPy': 0, 'Matplotlib': 0, 'Seaborn': 0}\n"
     ]
    }
   ],
   "source": [
    "# Initialize dictionary\n",
    "skill_count = {}\n",
    "\n",
    "# Loop through each skill and count occurrence in Job Titles\n",
    "for skill in skills_list:\n",
    "    count = df['Job Title'].str.contains(skill, case=False).sum()\n",
    "    skill_count[skill] = count\n",
    "\n",
    "# Sort by most frequent skills\n",
    "skill_count = dict(sorted(skill_count.items(), key=lambda item: item[1], reverse=True))\n",
    "print(skill_count)\n"
   ]
  },
  {
   "cell_type": "code",
   "execution_count": 33,
   "id": "0400c38e-6122-4753-91af-10dac7917056",
   "metadata": {},
   "outputs": [
    {
     "data": {
      "image/png": "[encoded data removed]",
      "text/plain": [
       "<Figure size 1200x600 with 1 Axes>"
      ]
     },
     "metadata": {},
     "output_type": "display_data"
    }
   ],
   "source": [
    "import matplotlib.pyplot as plt\n",
    "\n",
    "top_skills = dict(list(skill_count.items())[:10])  # Top 10 skills\n",
    "\n",
    "plt.figure(figsize=(12,6))\n",
    "plt.bar(top_skills.keys(), top_skills.values(), color='teal')\n",
    "plt.title(\"Top Skills in Data Analyst Jobs (from Job Titles)\")\n",
    "plt.ylabel(\"Number of Jobs\")\n",
    "plt.xticks(rotation=45)\n",
    "plt.show()\n"
   ]
  },
  {
   "cell_type": "code",
   "execution_count": 2,
   "id": "28be67a9-0e45-40fc-bd0c-0c1f62a6955c",
   "metadata": {},
   "outputs": [
    {
     "name": "stdout",
     "output_type": "stream",
     "text": [
      "CSV with descriptions saved successfully!\n"
     ]
    }
   ],
   "source": [
    "import requests\n",
    "from bs4 import BeautifulSoup\n",
    "\n",
    "url = \"https://remoteok.com/remote-data+analyst-jobs\"\n",
    "headers = {\"User-Agent\": \"Mozilla/5.0\"}\n",
    "res = requests.get(url, headers=headers)\n",
    "soup = BeautifulSoup(res.text, \"html.parser\")\n",
    "\n",
    "jobs = []\n",
    "\n",
    "# Find all job rows\n",
    "job_rows = soup.find_all(\"tr\", class_=\"job\")[:20]  # first 20 jobs\n",
    "\n",
    "for job in job_rows:\n",
    "    # Job Title\n",
    "    title_tag = job.find(\"h2\")\n",
    "    title = title_tag.text.strip() if title_tag else \"No Title\"\n",
    "    \n",
    "    # Company\n",
    "    company_tag = job.find(\"h3\")\n",
    "    company = company_tag.text.strip() if company_tag else \"No Company\"\n",
    "    \n",
    "    # Location\n",
    "    loc_tag = job.find(\"div\", class_=\"location\")\n",
    "    location = loc_tag.text.strip() if loc_tag else \"Remote\"\n",
    "    \n",
    "    # Job link\n",
    "    link_tag = job.find(\"a\", class_=\"preventLink\")\n",
    "    link = \"https://remoteok.com\" + link_tag['href'] if link_tag else \"No Link\"\n",
    "    \n",
    "    # Job Description\n",
    "    if link != \"No Link\":\n",
    "        res2 = requests.get(link, headers=headers)\n",
    "        soup2 = BeautifulSoup(res2.text, \"html.parser\")\n",
    "        desc_tag = soup2.find(\"div\", class_=\"description\")\n",
    "        description = desc_tag.text.strip() if desc_tag else \"No Description\"\n",
    "    else:\n",
    "        description = \"No Description\"\n",
    "    \n",
    "    jobs.append([title, company, location, description])\n",
    "\n",
    "# Optional: Save to CSV\n",
    "import pandas as pd\n",
    "df = pd.DataFrame(jobs, columns=[\"Job Title\", \"Company\", \"Location\", \"Description\"])\n",
    "df.to_csv(\"remoteok_data_analyst_jobs_with_desc.csv\", index=False)\n",
    "print(\"CSV with descriptions saved successfully!\")\n"
   ]
  },
  {
   "cell_type": "code",
   "execution_count": 10,
   "id": "c36443e3-fefe-40cc-823d-4373d89ab968",
   "metadata": {},
   "outputs": [
    {
     "name": "stdout",
     "output_type": "stream",
     "text": [
      "CSV saved successfully with actual data!\n"
     ]
    }
   ],
   "source": [
    "from selenium import webdriver\n",
    "from selenium.webdriver.common.by import By\n",
    "from selenium.webdriver.chrome.service import Service\n",
    "import pandas as pd\n",
    "import time\n",
    "\n",
    "# ChromeDriver path\n",
    "driver_path = r\"C:\\Users\\dhanu\\OneDrive\\Documents\\chromedriver.exe\"\n",
    "service = Service(driver_path)\n",
    "driver = webdriver.Chrome(service=service)\n",
    "\n",
    "# Open RemoteOK Data Analyst jobs\n",
    "driver.get(\"https://remoteok.com/remote-data+analyst-jobs\")\n",
    "time.sleep(5)  # wait for jobs to load\n",
    "\n",
    "# Find job rows\n",
    "job_rows = driver.find_elements(By.CSS_SELECTOR, \"tr.job\")[:20]\n",
    "\n",
    "jobs = []\n",
    "for job in job_rows:\n",
    "    try:\n",
    "        title = job.find_element(By.TAG_NAME, \"h2\").text\n",
    "    except:\n",
    "        title = \"No Title\"\n",
    "    try:\n",
    "        company = job.find_element(By.TAG_NAME, \"h3\").text\n",
    "    except:\n",
    "        company = \"No Company\"\n",
    "    try:\n",
    "        location = job.find_element(By.CLASS_NAME, \"location\").text\n",
    "    except:\n",
    "        location = \"Remote\"\n",
    "    \n",
    "    jobs.append([title, company, location])\n",
    "\n",
    "driver.quit()\n",
    "\n",
    "# Save to CSV with proper encoding\n",
    "df = pd.DataFrame(jobs, columns=[\"Job Title\", \"Company\", \"Location\"])\n",
    "df.to_csv(\"remoteok_data_analyst_jobs.csv\", index=False, encoding='utf-8-sig')\n",
    "print(\"CSV saved successfully with actual data!\")\n"
   ]
  },
  {
   "cell_type": "code",
   "execution_count": null,
   "id": "2fe2ad12-47d0-4e66-ad57-434b321ab239",
   "metadata": {},
   "outputs": [],
   "source": []
  }
 ],
 "metadata": {
  "kernelspec": {
   "display_name": "Python [conda env:base] *",
   "language": "python",
   "name": "conda-base-py"
  },
  "language_info": {
   "codemirror_mode": {
    "name": "ipython",
    "version": 3
   },
   "file_extension": ".py",
   "mimetype": "text/x-python",
   "name": "python",
   "nbconvert_exporter": "python",
   "pygments_lexer": "ipython3",
   "version": "3.12.7"
  }
 },
 "nbformat": 4,
 "nbformat_minor": 5
}
